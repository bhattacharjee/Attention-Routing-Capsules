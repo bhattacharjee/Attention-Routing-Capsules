{
  "nbformat": 4,
  "nbformat_minor": 0,
  "metadata": {
    "colab": {
      "name": "Untitled1.ipynb",
      "provenance": [],
      "machine_shape": "hm",
      "authorship_tag": "ABX9TyNYSyOrosCUBUea8RqzZoPj",
      "include_colab_link": true
    },
    "kernelspec": {
      "name": "python3",
      "display_name": "Python 3"
    },
    "language_info": {
      "name": "python"
    },
    "accelerator": "GPU"
  },
  "cells": [
    {
      "cell_type": "markdown",
      "metadata": {
        "id": "view-in-github",
        "colab_type": "text"
      },
      "source": [
        "<a href=\"https://colab.research.google.com/github/bhattacharjee/Attention-Routing-Capsules/blob/master/rajbir_notebook_works.ipynb\" target=\"_parent\"><img src=\"https://colab.research.google.com/assets/colab-badge.svg\" alt=\"Open In Colab\"/></a>"
      ]
    },
    {
      "cell_type": "code",
      "metadata": {
        "colab": {
          "base_uri": "https://localhost:8080/",
          "height": 129
        },
        "id": "H1AFWbgfdoDJ",
        "outputId": "ffe12a82-9043-4b3c-d77a-2ea3464757fa"
      },
      "source": [
        "!pip install tensorflow-gpu\n",
        "!pip install keras==2.0.9"
      ],
      "execution_count": null,
      "outputs": [
        {
          "output_type": "error",
          "ename": "SyntaxError",
          "evalue": "ignored",
          "traceback": [
            "\u001b[0;36m  File \u001b[0;32m\"<ipython-input-1-6f25943dd250>\"\u001b[0;36m, line \u001b[0;32m1\u001b[0m\n\u001b[0;31m    pip install tensorflow-gpu\u001b[0m\n\u001b[0m              ^\u001b[0m\n\u001b[0;31mSyntaxError\u001b[0m\u001b[0;31m:\u001b[0m invalid syntax\n"
          ]
        }
      ]
    },
    {
      "cell_type": "code",
      "metadata": {
        "colab": {
          "base_uri": "https://localhost:8080/"
        },
        "id": "OJULT1q-dp9S",
        "outputId": "b0b63de8-5686-4c5c-9eb0-89b43fe86bb6"
      },
      "source": [
        "!rm -rf *\n",
        "!git clone https://github.com/bhattacharjee/Attention-Routing-Capsules.git\n",
        "!cp -r Attention-Routing-Capsules/* .\n",
        "!python ar_capsulenet.py"
      ],
      "execution_count": null,
      "outputs": [
        {
          "output_type": "stream",
          "text": [
            "Cloning into 'Attention-Routing-Capsules'...\n",
            "remote: Enumerating objects: 51, done.\u001b[K\n",
            "remote: Counting objects: 100% (3/3), done.\u001b[K\n",
            "remote: Compressing objects: 100% (3/3), done.\u001b[K\n",
            "remote: Total 51 (delta 0), reused 0 (delta 0), pack-reused 48\u001b[K\n",
            "Unpacking objects: 100% (51/51), done.\n",
            "2021-07-01 19:37:46.893365: I tensorflow/stream_executor/platform/default/dso_loader.cc:53] Successfully opened dynamic library libcudart.so.11.0\n",
            "Namespace(augment='False', batch_size=100, dataset='mnist', debug=False, dimcaps='16', epochs=50, gpu='0', layernum='0', save_dir='./result', shift_fraction='0.1', validratio='1')\n",
            "Downloading data from https://storage.googleapis.com/tensorflow/tf-keras-datasets/mnist.npz\n",
            "11493376/11490434 [==============================] - 0s 0us/step\n",
            "layer num :  0\n",
            "dim_caps :  16\n",
            "2021-07-01 19:37:49.065477: I tensorflow/stream_executor/platform/default/dso_loader.cc:53] Successfully opened dynamic library libcuda.so.1\n",
            "2021-07-01 19:37:49.069388: I tensorflow/stream_executor/cuda/cuda_gpu_executor.cc:937] successful NUMA node read from SysFS had negative value (-1), but there must be at least one NUMA node, so returning NUMA node zero\n",
            "2021-07-01 19:37:49.070242: I tensorflow/core/common_runtime/gpu/gpu_device.cc:1733] Found device 0 with properties: \n",
            "pciBusID: 0000:00:04.0 name: Tesla P100-PCIE-16GB computeCapability: 6.0\n",
            "coreClock: 1.3285GHz coreCount: 56 deviceMemorySize: 15.90GiB deviceMemoryBandwidth: 681.88GiB/s\n",
            "2021-07-01 19:37:49.070279: I tensorflow/stream_executor/platform/default/dso_loader.cc:53] Successfully opened dynamic library libcudart.so.11.0\n",
            "2021-07-01 19:37:49.072532: I tensorflow/stream_executor/platform/default/dso_loader.cc:53] Successfully opened dynamic library libcublas.so.11\n",
            "2021-07-01 19:37:49.072602: I tensorflow/stream_executor/platform/default/dso_loader.cc:53] Successfully opened dynamic library libcublasLt.so.11\n",
            "2021-07-01 19:37:49.074179: I tensorflow/stream_executor/platform/default/dso_loader.cc:53] Successfully opened dynamic library libcufft.so.10\n",
            "2021-07-01 19:37:49.074562: I tensorflow/stream_executor/platform/default/dso_loader.cc:53] Successfully opened dynamic library libcurand.so.10\n",
            "2021-07-01 19:37:49.076125: I tensorflow/stream_executor/platform/default/dso_loader.cc:53] Successfully opened dynamic library libcusolver.so.10\n",
            "2021-07-01 19:37:49.076640: I tensorflow/stream_executor/platform/default/dso_loader.cc:53] Successfully opened dynamic library libcusparse.so.11\n",
            "2021-07-01 19:37:49.076853: I tensorflow/stream_executor/platform/default/dso_loader.cc:53] Successfully opened dynamic library libcudnn.so.8\n",
            "2021-07-01 19:37:49.076971: I tensorflow/stream_executor/cuda/cuda_gpu_executor.cc:937] successful NUMA node read from SysFS had negative value (-1), but there must be at least one NUMA node, so returning NUMA node zero\n",
            "2021-07-01 19:37:49.077925: I tensorflow/stream_executor/cuda/cuda_gpu_executor.cc:937] successful NUMA node read from SysFS had negative value (-1), but there must be at least one NUMA node, so returning NUMA node zero\n",
            "2021-07-01 19:37:49.078649: I tensorflow/core/common_runtime/gpu/gpu_device.cc:1871] Adding visible gpu devices: 0\n",
            "2021-07-01 19:37:49.079153: I tensorflow/stream_executor/cuda/cuda_gpu_executor.cc:937] successful NUMA node read from SysFS had negative value (-1), but there must be at least one NUMA node, so returning NUMA node zero\n",
            "2021-07-01 19:37:49.079949: I tensorflow/core/common_runtime/gpu/gpu_device.cc:1733] Found device 0 with properties: \n",
            "pciBusID: 0000:00:04.0 name: Tesla P100-PCIE-16GB computeCapability: 6.0\n",
            "coreClock: 1.3285GHz coreCount: 56 deviceMemorySize: 15.90GiB deviceMemoryBandwidth: 681.88GiB/s\n",
            "2021-07-01 19:37:49.080020: I tensorflow/stream_executor/cuda/cuda_gpu_executor.cc:937] successful NUMA node read from SysFS had negative value (-1), but there must be at least one NUMA node, so returning NUMA node zero\n",
            "2021-07-01 19:37:49.080751: I tensorflow/stream_executor/cuda/cuda_gpu_executor.cc:937] successful NUMA node read from SysFS had negative value (-1), but there must be at least one NUMA node, so returning NUMA node zero\n",
            "2021-07-01 19:37:49.081500: I tensorflow/core/common_runtime/gpu/gpu_device.cc:1871] Adding visible gpu devices: 0\n",
            "2021-07-01 19:37:49.081562: I tensorflow/stream_executor/platform/default/dso_loader.cc:53] Successfully opened dynamic library libcudart.so.11.0\n",
            "2021-07-01 19:37:49.678422: I tensorflow/core/common_runtime/gpu/gpu_device.cc:1258] Device interconnect StreamExecutor with strength 1 edge matrix:\n",
            "2021-07-01 19:37:49.678478: I tensorflow/core/common_runtime/gpu/gpu_device.cc:1264]      0 \n",
            "2021-07-01 19:37:49.678505: I tensorflow/core/common_runtime/gpu/gpu_device.cc:1277] 0:   N \n",
            "2021-07-01 19:37:49.678711: I tensorflow/stream_executor/cuda/cuda_gpu_executor.cc:937] successful NUMA node read from SysFS had negative value (-1), but there must be at least one NUMA node, so returning NUMA node zero\n",
            "2021-07-01 19:37:49.679679: I tensorflow/stream_executor/cuda/cuda_gpu_executor.cc:937] successful NUMA node read from SysFS had negative value (-1), but there must be at least one NUMA node, so returning NUMA node zero\n",
            "2021-07-01 19:37:49.680563: I tensorflow/stream_executor/cuda/cuda_gpu_executor.cc:937] successful NUMA node read from SysFS had negative value (-1), but there must be at least one NUMA node, so returning NUMA node zero\n",
            "2021-07-01 19:37:49.681434: W tensorflow/core/common_runtime/gpu/gpu_bfc_allocator.cc:39] Overriding allow_growth setting because the TF_FORCE_GPU_ALLOW_GROWTH environment variable is set. Original config value was 0.\n",
            "2021-07-01 19:37:49.681500: I tensorflow/core/common_runtime/gpu/gpu_device.cc:1418] Created TensorFlow device (/job:localhost/replica:0/task:0/device:GPU:0 with 14830 MB memory) -> physical GPU (device: 0, name: Tesla P100-PCIE-16GB, pci bus id: 0000:00:04.0, compute capability: 6.0)\n",
            "primary caps shape :  (None, 14, 14, 16, 8)\n",
            "Final Routing caps shape :  (None, 10, 16)\n",
            "Length shape :  (None, 10)\n",
            "Model: \"model\"\n",
            "__________________________________________________________________________________________________\n",
            "Layer (type)                    Output Shape         Param #     Connected to                     \n",
            "==================================================================================================\n",
            "input_1 (InputLayer)            [(None, 28, 28, 1)]  0                                            \n",
            "__________________________________________________________________________________________________\n",
            "conv2d (Conv2D)                 (None, 28, 28, 64)   640         input_1[0][0]                    \n",
            "__________________________________________________________________________________________________\n",
            "batch_normalization (BatchNorma (None, 28, 28, 64)   256         conv2d[0][0]                     \n",
            "__________________________________________________________________________________________________\n",
            "activation (Activation)         (None, 28, 28, 64)   0           batch_normalization[0][0]        \n",
            "__________________________________________________________________________________________________\n",
            "conv2d_1 (Conv2D)               (None, 28, 28, 64)   36928       activation[0][0]                 \n",
            "__________________________________________________________________________________________________\n",
            "batch_normalization_1 (BatchNor (None, 28, 28, 64)   256         conv2d_1[0][0]                   \n",
            "__________________________________________________________________________________________________\n",
            "activation_1 (Activation)       (None, 28, 28, 64)   0           batch_normalization_1[0][0]      \n",
            "__________________________________________________________________________________________________\n",
            "primary_cap (PrimaryCap)        (None, 14, 14, 16, 8 76032       activation_1[0][0]               \n",
            "__________________________________________________________________________________________________\n",
            "activation_2 (Activation)       (None, 14, 14, 16, 8 0           primary_cap[0][0]                \n",
            "__________________________________________________________________________________________________\n",
            "fully_conv_caps (FullyConvCaps) (None, 10, 16)       4028320     activation_2[0][0]               \n",
            "__________________________________________________________________________________________________\n",
            "activation_3 (Activation)       (None, 10, 16)       0           fully_conv_caps[0][0]            \n",
            "__________________________________________________________________________________________________\n",
            "input_2 (InputLayer)            [(None, 10)]         0                                            \n",
            "__________________________________________________________________________________________________\n",
            "mask (Mask)                     (None, None)         0           activation_3[0][0]               \n",
            "                                                                 input_2[0][0]                    \n",
            "__________________________________________________________________________________________________\n",
            "length (Length)                 (None, 10)           0           activation_3[0][0]               \n",
            "__________________________________________________________________________________________________\n",
            "decoder (Sequential)            (None, 28, 28, 1)    747280      mask[0][0]                       \n",
            "==================================================================================================\n",
            "Total params: 4,889,712\n",
            "Trainable params: 4,889,456\n",
            "Non-trainable params: 256\n",
            "__________________________________________________________________________________________________\n",
            "None\n",
            "valid_ratio 0.1\n",
            "WARNING:tensorflow:`batch_size` is no longer needed in the `TensorBoard` Callback and will be ignored in TensorFlow 2.0.\n",
            "2021-07-01 19:37:56.492175: I tensorflow/core/profiler/lib/profiler_session.cc:126] Profiler session initializing.\n",
            "2021-07-01 19:37:56.492220: I tensorflow/core/profiler/lib/profiler_session.cc:141] Profiler session started.\n",
            "2021-07-01 19:37:56.492456: I tensorflow/core/profiler/internal/gpu/cupti_tracer.cc:1611] Profiler found 1 GPUs\n",
            "2021-07-01 19:37:56.549880: I tensorflow/stream_executor/platform/default/dso_loader.cc:53] Successfully opened dynamic library libcupti.so.11.0\n",
            "2021-07-01 19:37:56.705239: I tensorflow/core/profiler/lib/profiler_session.cc:159] Profiler session tear down.\n",
            "2021-07-01 19:37:56.705590: I tensorflow/core/profiler/internal/gpu/cupti_tracer.cc:1743] CUPTI activity buffer flushed\n",
            "/usr/local/lib/python3.7/dist-packages/tensorflow/python/keras/optimizer_v2/optimizer_v2.py:375: UserWarning: The `lr` argument is deprecated, use `learning_rate` instead.\n",
            "  \"The `lr` argument is deprecated, use `learning_rate` instead.\")\n",
            "2021-07-01 19:37:57.400027: I tensorflow/compiler/mlir/mlir_graph_optimization_pass.cc:176] None of the MLIR Optimization Passes are enabled (registered 2)\n",
            "2021-07-01 19:37:57.404164: I tensorflow/core/platform/profile_utils/cpu_utils.cc:114] CPU Frequency: 2299995000 Hz\n",
            "Epoch 1/50\n",
            "2021-07-01 19:38:13.776181: I tensorflow/stream_executor/platform/default/dso_loader.cc:53] Successfully opened dynamic library libcudnn.so.8\n",
            "2021-07-01 19:38:14.940708: I tensorflow/stream_executor/cuda/cuda_dnn.cc:359] Loaded cuDNN version 8004\n",
            "2021-07-01 19:38:26.922861: I tensorflow/stream_executor/platform/default/dso_loader.cc:53] Successfully opened dynamic library libcublas.so.11\n",
            "2021-07-01 19:38:28.121044: I tensorflow/stream_executor/platform/default/dso_loader.cc:53] Successfully opened dynamic library libcublasLt.so.11\n",
            "  1/540 [..............................] - ETA: 4:43:09 - loss: 0.8694 - length_loss: 0.8001 - decoder_loss: 0.2309 - length_acc: 0.0600 - decoder_acc: 0.39552021-07-01 19:38:29.072529: I tensorflow/core/profiler/lib/profiler_session.cc:126] Profiler session initializing.\n",
            "2021-07-01 19:38:29.072597: I tensorflow/core/profiler/lib/profiler_session.cc:141] Profiler session started.\n",
            "  2/540 [..............................] - ETA: 3:50 - loss: 0.9082 - length_loss: 0.8394 - decoder_loss: 0.2291 - length_acc: 0.1100 - decoder_acc: 0.4527   2021-07-01 19:38:29.414164: I tensorflow/core/profiler/lib/profiler_session.cc:66] Profiler session collecting data.\n",
            "2021-07-01 19:38:29.415333: I tensorflow/core/profiler/internal/gpu/cupti_tracer.cc:1743] CUPTI activity buffer flushed\n",
            "2021-07-01 19:38:29.579569: I tensorflow/core/profiler/internal/gpu/cupti_collector.cc:673]  GpuTracer has collected 1271 callback api events and 1265 activity events. \n",
            "2021-07-01 19:38:29.599523: I tensorflow/core/profiler/lib/profiler_session.cc:159] Profiler session tear down.\n",
            "2021-07-01 19:38:29.629742: I tensorflow/core/profiler/rpc/client/save_profile.cc:137] Creating directory: ./result/tensorboard-logs/train/plugins/profile/2021_07_01_19_38_29\n",
            "2021-07-01 19:38:29.648490: I tensorflow/core/profiler/rpc/client/save_profile.cc:143] Dumped gzipped tool data for trace.json.gz to ./result/tensorboard-logs/train/plugins/profile/2021_07_01_19_38_29/df6463eef642.trace.json.gz\n",
            "2021-07-01 19:38:29.700038: I tensorflow/core/profiler/rpc/client/save_profile.cc:137] Creating directory: ./result/tensorboard-logs/train/plugins/profile/2021_07_01_19_38_29\n",
            "2021-07-01 19:38:29.705835: I tensorflow/core/profiler/rpc/client/save_profile.cc:143] Dumped gzipped tool data for memory_profile.json.gz to ./result/tensorboard-logs/train/plugins/profile/2021_07_01_19_38_29/df6463eef642.memory_profile.json.gz\n",
            "2021-07-01 19:38:29.707818: I tensorflow/core/profiler/rpc/client/capture_profile.cc:251] Creating directory: ./result/tensorboard-logs/train/plugins/profile/2021_07_01_19_38_29Dumped tool data for xplane.pb to ./result/tensorboard-logs/train/plugins/profile/2021_07_01_19_38_29/df6463eef642.xplane.pb\n",
            "Dumped tool data for overview_page.pb to ./result/tensorboard-logs/train/plugins/profile/2021_07_01_19_38_29/df6463eef642.overview_page.pb\n",
            "Dumped tool data for input_pipeline.pb to ./result/tensorboard-logs/train/plugins/profile/2021_07_01_19_38_29/df6463eef642.input_pipeline.pb\n",
            "Dumped tool data for tensorflow_stats.pb to ./result/tensorboard-logs/train/plugins/profile/2021_07_01_19_38_29/df6463eef642.tensorflow_stats.pb\n",
            "Dumped tool data for kernel_stats.pb to ./result/tensorboard-logs/train/plugins/profile/2021_07_01_19_38_29/df6463eef642.kernel_stats.pb\n",
            "\n",
            "  5/540 [..............................] - ETA: 1:48 - loss: 0.9022 - length_loss: 0.8371 - decoder_loss: 0.2173 - length_acc: 0.1127 - decoder_acc: 0.5664WARNING:tensorflow:Callback method `on_train_batch_begin` is slow compared to the batch time (batch time: 0.0211s vs `on_train_batch_begin` time: 0.0496s). Check your callbacks.\n",
            "WARNING:tensorflow:Callback method `on_train_batch_end` is slow compared to the batch time (batch time: 0.0211s vs `on_train_batch_end` time: 0.0729s). Check your callbacks.\n",
            "540/540 [==============================] - 48s 31ms/step - loss: 0.1601 - length_loss: 0.1414 - decoder_loss: 0.0625 - length_acc: 0.8824 - decoder_acc: 0.7881 - val_loss: 0.0378 - val_length_loss: 0.0251 - val_decoder_loss: 0.0424 - val_length_acc: 0.9875 - val_decoder_acc: 0.7997\n",
            "WARNING:tensorflow:Can save best model only with val_length_1_acc available, skipping.\n",
            "Epoch 2/50\n",
            "540/540 [==============================] - 15s 27ms/step - loss: 0.0282 - length_loss: 0.0159 - decoder_loss: 0.0409 - length_acc: 0.9863 - decoder_acc: 0.7979 - val_loss: 0.0200 - val_length_loss: 0.0093 - val_decoder_loss: 0.0358 - val_length_acc: 0.9900 - val_decoder_acc: 0.8011\n",
            "WARNING:tensorflow:Can save best model only with val_length_1_acc available, skipping.\n",
            "Epoch 3/50\n",
            "540/540 [==============================] - 15s 28ms/step - loss: 0.0216 - length_loss: 0.0108 - decoder_loss: 0.0362 - length_acc: 0.9905 - decoder_acc: 0.8000 - val_loss: 0.0167 - val_length_loss: 0.0069 - val_decoder_loss: 0.0327 - val_length_acc: 0.9922 - val_decoder_acc: 0.8023\n",
            "WARNING:tensorflow:Can save best model only with val_length_1_acc available, skipping.\n",
            "Epoch 4/50\n",
            "130/540 [======>.......................] - ETA: 10s - loss: 0.0184 - length_loss: 0.0082 - decoder_loss: 0.0339 - length_acc: 0.9927 - decoder_acc: 0.8008"
          ],
          "name": "stdout"
        }
      ]
    },
    {
      "cell_type": "code",
      "metadata": {
        "id": "_9fypRvdiCQP"
      },
      "source": [
        ""
      ],
      "execution_count": null,
      "outputs": []
    }
  ]
}